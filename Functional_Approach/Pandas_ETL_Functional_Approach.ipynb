{
 "cells": [
  {
   "cell_type": "code",
   "execution_count": 1,
   "id": "db19c0a1",
   "metadata": {},
   "outputs": [],
   "source": [
    "import boto3\n",
    "import pandas as pd\n",
    "from io import StringIO,BytesIO\n",
    "from datetime import datetime,timedelta"
   ]
  },
  {
   "cell_type": "markdown",
   "id": "f9cf66c7",
   "metadata": {},
   "source": [
    "# Adapter Layer"
   ]
  },
  {
   "cell_type": "code",
   "execution_count": 2,
   "id": "739ac716",
   "metadata": {},
   "outputs": [],
   "source": [
    "def read_csv_to_df(bucket,key,decoding='utf-8',sep=','):\n",
    "    csv_obj=bucket.Object(key=key).get().get('Body').read().decode(decoding)\n",
    "    data=StringIO(csv_obj)\n",
    "    df=pd.read_csv(data,delimiter=sep)\n",
    "    return df\n",
    "\n",
    "def write_df_to_s3(bucket,df,key):\n",
    "    out_buffer=BytesIO()\n",
    "    df.to_parquet(out_buffer,index=False)\n",
    "    bucket.put_object(Body=out_buffer.getvalue(),Key=key)\n",
    "    return True\n",
    "\n",
    "def list_files_in_prefix(bucket,prefix):\n",
    "    files = [obj.key for obj in bucket.objects.filter(Prefix=prefix)]\n",
    "    return files\n"
   ]
  },
  {
   "cell_type": "markdown",
   "id": "b79fdf5b",
   "metadata": {},
   "source": [
    "# Application Layer"
   ]
  },
  {
   "cell_type": "code",
   "execution_count": 3,
   "id": "f4787192",
   "metadata": {},
   "outputs": [],
   "source": [
    "def extract(bucket,date_list):\n",
    "    files = [key for date in date_list for key in list_files_in_prefix(bucket,date)]\n",
    "    df=pd.concat([read_csv_to_df(bucket,obj) for obj in files],ignore_index=True)\n",
    "    return df\n",
    "\n",
    "def transform_report1(df,columns,arg_date):\n",
    "    df=df.loc[:,columns]\n",
    "    df.dropna(inplace=True)\n",
    "    df['opening_price']=df.sort_values(by=['Time']).groupby(['ISIN','Date'])['StartPrice'].transform('first')\n",
    "    df['closing_price']=df.sort_values(by=['Time']).groupby(['ISIN','Date'])['StartPrice'].transform('last')\n",
    "    df=df.groupby(['ISIN','Date'],as_index=False).agg(opening_price_eur=('opening_price','min'),\n",
    "                                                         closing_price_eur=('closing_price','min'),\n",
    "                                                         minimum_price_eur=('MinPrice','min'),\n",
    "                                                         maximum_price_eur=('MaxPrice','max'),\n",
    "                                                         daily_traded_volumne=('TradedVolume','sum'))\n",
    "    df['prev_closing_price']=df.sort_values(by=['Date']).groupby(['ISIN'])['closing_price_eur'].shift(1)\n",
    "    df['change_prev_closing_%']=(df['closing_price_eur']-df['prev_closing_price'])/df['prev_closing_price']*100\n",
    "    df.drop(columns=['prev_closing_price'],inplace=True)\n",
    "    df=df.round(decimals=2)\n",
    "    df=df[df.Date>=arg_date]\n",
    "    return df\n",
    "\n",
    "def load(bucket,df,trg_key,trg_format):\n",
    "    key=trg_key+datetime.today().strftime('%Y%m%d_%H%M%S')+trg_format\n",
    "    write_df_to_s3(bucket,df,key)\n",
    "    return True\n",
    "\n",
    "def etl_report1(src_bucket,trg_bucket,date_list,columns,arg_date,trg_key,trg_format):\n",
    "    df=extract(src_bucket,date_list)\n",
    "    df=transform_report1(df,columns,arg_date)\n",
    "    load(trg_bucket,df,trg_key,trg_format)\n",
    "    return True\n",
    "\n",
    "def return_date_list(bucket,arg_date,src_format):\n",
    "    min_date=datetime.strptime(arg_date,src_format).date()-timedelta(days=1)\n",
    "    today=datetime.today().date()\n",
    "    return_date_list = [(min_date+timedelta(days=x)).strftime(src_format) for x in range(0,(today-min_date).days+1)]\n",
    "    return return_date_list"
   ]
  },
  {
   "cell_type": "code",
   "execution_count": 4,
   "id": "8ae19531",
   "metadata": {},
   "outputs": [],
   "source": [
    "# main fuction entrypoint\n",
    "def main():\n",
    "    trg_key='xetra_daily_report_'\n",
    "    trg_format='.parquet'\n",
    "    arg_date='2022-01-20'\n",
    "    src_format='%Y-%m-%d'\n",
    "    src_bucket='deutsche-boerse-xetra-pds'\n",
    "    trg_bucket='YOUR_TRG_BUCKET'\n",
    "    columns=['ISIN','Date', 'Time', 'StartPrice', 'MaxPrice', 'MinPrice','EndPrice', 'TradedVolume']\n",
    "    \n",
    "    # init\n",
    "    s3 = boto3.resource('s3',aws_access_key_id=\"AWS_ACCESS_KEY\",\n",
    "                         aws_secret_access_key=\"AWS_SCERET_KEY\")\n",
    "    bucket_src = s3.Bucket(src_bucket)\n",
    "    bucket_trg = s3.Bucket(trg_bucket)\n",
    "    \n",
    "    # run application\n",
    "    date_list = return_date_list(bucket_src ,arg_date ,src_format)\n",
    "    etl_report1(bucket_src ,bucket_trg,date_list ,columns ,arg_date ,trg_key ,trg_format)\n",
    "\n",
    "\n",
    "\n",
    "main()"
   ]
  },
  {
   "cell_type": "markdown",
   "id": "343356e9",
   "metadata": {},
   "source": [
    "# Reading the uploaded file"
   ]
  },
  {
   "cell_type": "code",
   "execution_count": 5,
   "id": "959cb5a4",
   "metadata": {},
   "outputs": [
    {
     "name": "stdout",
     "output_type": "stream",
     "text": [
      "xetra_daily_report_20220120_194643.parquet\n"
     ]
    }
   ],
   "source": [
    "trg_bucket='YOUR_TRG_BUCKET'\n",
    "s3 = boto3.resource('s3',aws_access_key_id=\"AWS_ACCESS_KEY\",\n",
    "                         aws_secret_access_key=\"AWS_SCERET_KEY\")\n",
    "bucket_trg = s3.Bucket(trg_bucket)\n",
    "for obj in bucket_trg.objects.all():\n",
    "    print(obj.key)"
   ]
  },
  {
   "cell_type": "code",
   "execution_count": 7,
   "id": "f50623b7",
   "metadata": {},
   "outputs": [
    {
     "data": {
      "text/html": [
       "<div>\n",
       "<style scoped>\n",
       "    .dataframe tbody tr th:only-of-type {\n",
       "        vertical-align: middle;\n",
       "    }\n",
       "\n",
       "    .dataframe tbody tr th {\n",
       "        vertical-align: top;\n",
       "    }\n",
       "\n",
       "    .dataframe thead th {\n",
       "        text-align: right;\n",
       "    }\n",
       "</style>\n",
       "<table border=\"1\" class=\"dataframe\">\n",
       "  <thead>\n",
       "    <tr style=\"text-align: right;\">\n",
       "      <th></th>\n",
       "      <th>ISIN</th>\n",
       "      <th>Date</th>\n",
       "      <th>opening_price_eur</th>\n",
       "      <th>closing_price_eur</th>\n",
       "      <th>minimum_price_eur</th>\n",
       "      <th>maximum_price_eur</th>\n",
       "      <th>daily_traded_volumne</th>\n",
       "      <th>change_prev_closing_%</th>\n",
       "    </tr>\n",
       "  </thead>\n",
       "  <tbody>\n",
       "    <tr>\n",
       "      <th>0</th>\n",
       "      <td>AT000000STR1</td>\n",
       "      <td>2022-01-20</td>\n",
       "      <td>38.20</td>\n",
       "      <td>38.20</td>\n",
       "      <td>38.20</td>\n",
       "      <td>38.20</td>\n",
       "      <td>100</td>\n",
       "      <td>0.66</td>\n",
       "    </tr>\n",
       "    <tr>\n",
       "      <th>1</th>\n",
       "      <td>AT0000606306</td>\n",
       "      <td>2022-01-20</td>\n",
       "      <td>25.04</td>\n",
       "      <td>24.60</td>\n",
       "      <td>24.52</td>\n",
       "      <td>25.42</td>\n",
       "      <td>12103</td>\n",
       "      <td>-3.00</td>\n",
       "    </tr>\n",
       "    <tr>\n",
       "      <th>2</th>\n",
       "      <td>AT0000644505</td>\n",
       "      <td>2022-01-20</td>\n",
       "      <td>118.00</td>\n",
       "      <td>116.80</td>\n",
       "      <td>116.40</td>\n",
       "      <td>118.80</td>\n",
       "      <td>279</td>\n",
       "      <td>-2.18</td>\n",
       "    </tr>\n",
       "    <tr>\n",
       "      <th>3</th>\n",
       "      <td>AT0000652011</td>\n",
       "      <td>2022-01-20</td>\n",
       "      <td>43.00</td>\n",
       "      <td>43.25</td>\n",
       "      <td>43.00</td>\n",
       "      <td>43.72</td>\n",
       "      <td>705</td>\n",
       "      <td>-0.07</td>\n",
       "    </tr>\n",
       "    <tr>\n",
       "      <th>4</th>\n",
       "      <td>AT0000652250</td>\n",
       "      <td>2022-01-20</td>\n",
       "      <td>22.00</td>\n",
       "      <td>22.00</td>\n",
       "      <td>22.00</td>\n",
       "      <td>22.00</td>\n",
       "      <td>32</td>\n",
       "      <td>-0.45</td>\n",
       "    </tr>\n",
       "  </tbody>\n",
       "</table>\n",
       "</div>"
      ],
      "text/plain": [
       "           ISIN        Date  opening_price_eur  closing_price_eur  \\\n",
       "0  AT000000STR1  2022-01-20              38.20              38.20   \n",
       "1  AT0000606306  2022-01-20              25.04              24.60   \n",
       "2  AT0000644505  2022-01-20             118.00             116.80   \n",
       "3  AT0000652011  2022-01-20              43.00              43.25   \n",
       "4  AT0000652250  2022-01-20              22.00              22.00   \n",
       "\n",
       "   minimum_price_eur  maximum_price_eur  daily_traded_volumne  \\\n",
       "0              38.20              38.20                   100   \n",
       "1              24.52              25.42                 12103   \n",
       "2             116.40             118.80                   279   \n",
       "3              43.00              43.72                   705   \n",
       "4              22.00              22.00                    32   \n",
       "\n",
       "   change_prev_closing_%  \n",
       "0                   0.66  \n",
       "1                  -3.00  \n",
       "2                  -2.18  \n",
       "3                  -0.07  \n",
       "4                  -0.45  "
      ]
     },
     "execution_count": 7,
     "metadata": {},
     "output_type": "execute_result"
    }
   ],
   "source": [
    "prq_obj=bucket_trg.Object(key=\"xetra_daily_report_20220120_194643.parquet\").get().get('Body').read()\n",
    "data=BytesIO(prq_obj)\n",
    "df_report=pd.read_parquet(data)\n",
    "\n",
    "df_report.head()"
   ]
  },
  {
   "cell_type": "code",
   "execution_count": null,
   "id": "f4a77274",
   "metadata": {},
   "outputs": [],
   "source": []
  }
 ],
 "metadata": {
  "kernelspec": {
   "display_name": "Python 3 (ipykernel)",
   "language": "python",
   "name": "python3"
  },
  "language_info": {
   "codemirror_mode": {
    "name": "ipython",
    "version": 3
   },
   "file_extension": ".py",
   "mimetype": "text/x-python",
   "name": "python",
   "nbconvert_exporter": "python",
   "pygments_lexer": "ipython3",
   "version": "3.8.8"
  }
 },
 "nbformat": 4,
 "nbformat_minor": 5
}
